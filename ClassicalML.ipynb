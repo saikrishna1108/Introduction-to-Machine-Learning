{
  "nbformat": 4,
  "nbformat_minor": 0,
  "metadata": {
    "colab": {
      "provenance": [],
      "mount_file_id": "1dNo2WQWTpj2NiBzmBLtB6TFbFCUDWRwZ",
      "authorship_tag": "ABX9TyMoZrQBS4am00eJR1cFbpR7",
      "include_colab_link": true
    },
    "kernelspec": {
      "name": "python3",
      "display_name": "Python 3"
    },
    "language_info": {
      "name": "python"
    }
  },
  "cells": [
    {
      "cell_type": "markdown",
      "metadata": {
        "id": "view-in-github",
        "colab_type": "text"
      },
      "source": [
        "<a href=\"https://colab.research.google.com/github/saikrishna1108/Introduction-to-Machine-Learning/blob/main/ClassicalML.ipynb\" target=\"_parent\"><img src=\"https://colab.research.google.com/assets/colab-badge.svg\" alt=\"Open In Colab\"/></a>"
      ]
    },
    {
      "cell_type": "code",
      "source": [
        "from sklearn.linear_model import LinearRegression\n",
        "from sklearn.metrics import mean_squared_error\n",
        "import numpy as np\n",
        "import pandas as pd\n",
        "from sklearn.preprocessing import StandardScaler\n",
        "from sklearn.model_selection import train_test_split"
      ],
      "metadata": {
        "id": "h3y6rEIBWNyJ"
      },
      "execution_count": null,
      "outputs": []
    },
    {
      "cell_type": "code",
      "source": [
        "data = pd.read_csv(\"/content/drive/MyDrive/train11_dataframe.csv\")\n",
        "removed_column = data.pop('label')\n",
        "Y = pd.DataFrame({'age group': removed_column})\n",
        "X = data\n",
        "X.shape"
      ],
      "metadata": {
        "colab": {
          "base_uri": "https://localhost:8080/"
        },
        "id": "8Q_eme68WSFW",
        "outputId": "677dac1e-bcea-4304-fa57-789117b442f9"
      },
      "execution_count": null,
      "outputs": [
        {
          "output_type": "execute_result",
          "data": {
            "text/plain": [
              "(17846, 23)"
            ]
          },
          "metadata": {},
          "execution_count": 3
        }
      ]
    },
    {
      "cell_type": "code",
      "source": [
        "x_train, x_test, y_train, y_test = train_test_split(X, Y, test_size=0.2, random_state=42)\n"
      ],
      "metadata": {
        "id": "amedUFGkWXIv"
      },
      "execution_count": null,
      "outputs": []
    },
    {
      "cell_type": "code",
      "source": [
        "from sklearn.preprocessing import LabelEncoder\n",
        "\n",
        "def get_labels(data):\n",
        "    labels = data.iloc[:, -1]\n",
        "    encoder = LabelEncoder()\n",
        "    labels = encoder.fit_transform(labels)\n",
        "    return labels, encoder\n",
        "\n",
        "y_train, encoder = get_labels(y_train)\n",
        "y_test = encoder.transform(y_test)\n",
        "y_test = y_test.ravel()\n",
        "y_train = y_train.ravel()\n",
        "y_test[:50]"
      ],
      "metadata": {
        "colab": {
          "base_uri": "https://localhost:8080/"
        },
        "id": "EcKbIM7NWbDM",
        "outputId": "97ba61e9-9f9a-421c-bf05-45dcb1bb1121"
      },
      "execution_count": null,
      "outputs": [
        {
          "output_type": "stream",
          "name": "stderr",
          "text": [
            "/usr/local/lib/python3.10/dist-packages/sklearn/preprocessing/_label.py:134: DataConversionWarning: A column-vector y was passed when a 1d array was expected. Please change the shape of y to (n_samples, ), for example using ravel().\n",
            "  y = column_or_1d(y, dtype=self.classes_.dtype, warn=True)\n"
          ]
        },
        {
          "output_type": "execute_result",
          "data": {
            "text/plain": [
              "array([1, 1, 7, 1, 5, 2, 7, 5, 5, 7, 2, 1, 6, 5, 2, 4, 7, 6, 7, 6, 7, 6,\n",
              "       7, 6, 4, 6, 6, 4, 7, 2, 6, 7, 4, 7, 5, 7, 1, 1, 6, 6, 1, 5, 2, 7,\n",
              "       1, 7, 7, 2, 6, 1])"
            ]
          },
          "metadata": {},
          "execution_count": 5
        }
      ]
    },
    {
      "cell_type": "code",
      "source": [
        "sc = StandardScaler()\n",
        "x_train= sc.fit_transform(x_train)\n",
        "x_test = sc.fit_transform(x_test)\n",
        "n = X.shape[1]"
      ],
      "metadata": {
        "id": "xonXXQAOWcGH"
      },
      "execution_count": null,
      "outputs": []
    },
    {
      "cell_type": "code",
      "execution_count": null,
      "metadata": {
        "colab": {
          "base_uri": "https://localhost:8080/"
        },
        "id": "F09BjYpQVUTk",
        "outputId": "c81c40bb-d5e1-4b6f-c236-089df5599962"
      },
      "outputs": [
        {
          "output_type": "stream",
          "name": "stdout",
          "text": [
            "Mean Squared Error (Linear Regression): 4.910384765499127\n",
            "Coefficients: [ 0.15175082  0.08193748 -0.24229435 -0.04109326  0.30793127 -0.0979608\n",
            " -0.05268674  0.15036237  0.02934637  0.03437712 -0.04630648  0.10329246\n",
            " -0.12563771  0.09662703 -0.20651308 -0.16404659 -0.13544627  0.15161461\n",
            "  0.08683289  0.18801401  0.04861267  0.09903587 -0.20607898]\n",
            "Intercept: 4.780120481927711\n",
            "R-squared (Linear Regression): 0.048391541383737025\n"
          ]
        }
      ],
      "source": [
        "\n",
        "\n",
        "# Assuming x_train, y_train, x_test, y_test are your training and testing data\n",
        "\n",
        "# Linear Regression\n",
        "linear_reg_model = LinearRegression()\n",
        "\n",
        "# Training the model\n",
        "linear_reg_model.fit(x_train, y_train)\n",
        "\n",
        "# Predicting on the test set\n",
        "y_pred_linear = linear_reg_model.predict(x_test)\n",
        "\n",
        "# Evaluating the model\n",
        "mse_linear = mean_squared_error(y_test, y_pred_linear)\n",
        "print(f\"Mean Squared Error (Linear Regression): {mse_linear}\")\n",
        "\n",
        "# If you want to access the coefficients and intercept:\n",
        "coefficients = linear_reg_model.coef_\n",
        "intercept = linear_reg_model.intercept_\n",
        "\n",
        "print(\"Coefficients:\", coefficients)\n",
        "print(\"Intercept:\", intercept)\n",
        "\n",
        "# Accuracy for regression is not applicable, but you can print R-squared\n",
        "r_squared = linear_reg_model.score(x_test, y_test)\n",
        "print(f\"R-squared (Linear Regression): {r_squared}\")\n"
      ]
    },
    {
      "cell_type": "code",
      "source": [
        "from sklearn.linear_model import LogisticRegression\n",
        "from sklearn.metrics import accuracy_score, classification_report\n",
        "\n",
        "# Assuming x_train, y_train, x_test, y_test are your training and testing data\n",
        "\n",
        "# Logistic Regression\n",
        "logistic_reg_model = LogisticRegression()\n",
        "\n",
        "# Training the model\n",
        "logistic_reg_model.fit(x_train, y_train)\n",
        "\n",
        "# Predicting on the test set\n",
        "y_pred_logistic = logistic_reg_model.predict(x_test)\n",
        "\n",
        "# Evaluating the model\n",
        "accuracy_logistic = accuracy_score(y_test, y_pred_logistic)\n",
        "classification_report_logistic = classification_report(y_test, y_pred_logistic)\n",
        "\n",
        "print(f\"Accuracy (Logistic Regression): {accuracy_logistic}\")\n",
        "print(\"Classification Report (Logistic Regression):\\n\", classification_report_logistic)\n",
        "\n"
      ],
      "metadata": {
        "colab": {
          "base_uri": "https://localhost:8080/"
        },
        "id": "Pq2HcroqYPy1",
        "outputId": "dd8ec678-e878-418a-a025-56d5aa65fe35"
      },
      "execution_count": null,
      "outputs": [
        {
          "output_type": "stream",
          "name": "stdout",
          "text": [
            "Accuracy (Logistic Regression): 0.3467787114845938\n",
            "Classification Report (Logistic Regression):\n",
            "               precision    recall  f1-score   support\n",
            "\n",
            "           0       0.50      0.09      0.15        11\n",
            "           1       0.23      0.07      0.11       477\n",
            "           2       0.29      0.11      0.16       539\n",
            "           3       0.00      0.00      0.00        75\n",
            "           4       0.16      0.05      0.07       220\n",
            "           5       0.40      0.02      0.04       264\n",
            "           6       0.32      0.40      0.35       864\n",
            "           7       0.38      0.70      0.49      1120\n",
            "\n",
            "    accuracy                           0.35      3570\n",
            "   macro avg       0.28      0.18      0.17      3570\n",
            "weighted avg       0.31      0.35      0.29      3570\n",
            "\n"
          ]
        },
        {
          "output_type": "stream",
          "name": "stderr",
          "text": [
            "/usr/local/lib/python3.10/dist-packages/sklearn/linear_model/_logistic.py:458: ConvergenceWarning: lbfgs failed to converge (status=1):\n",
            "STOP: TOTAL NO. of ITERATIONS REACHED LIMIT.\n",
            "\n",
            "Increase the number of iterations (max_iter) or scale the data as shown in:\n",
            "    https://scikit-learn.org/stable/modules/preprocessing.html\n",
            "Please also refer to the documentation for alternative solver options:\n",
            "    https://scikit-learn.org/stable/modules/linear_model.html#logistic-regression\n",
            "  n_iter_i = _check_optimize_result(\n"
          ]
        }
      ]
    },
    {
      "cell_type": "code",
      "source": [
        "from sklearn.decomposition import PCA"
      ],
      "metadata": {
        "id": "1nvzmorsbwil"
      },
      "execution_count": null,
      "outputs": []
    },
    {
      "cell_type": "code",
      "source": [
        "from sklearn.svm import SVC\n",
        "from sklearn.metrics import accuracy_score, classification_report\n",
        "\n",
        "svc_model_rbf = SVC(kernel='rbf',C=10)\n",
        "\n",
        "# Training the model\n",
        "svc_model_rbf.fit(x_train, y_train)\n",
        "\n",
        "# Predicting on the test set\n",
        "y_pred_svc_rbf = svc_model_rbf.predict(x_test)\n",
        "\n",
        "# Evaluating the model\n",
        "accuracy_svc_rbf = accuracy_score(y_test, y_pred_svc_rbf)\n",
        "classification_report_svc_rbf = classification_report(y_test, y_pred_svc_rbf)\n",
        "\n",
        "print(f\"Accuracy (SVC with RBF kernel): {accuracy_svc_rbf}\")\n",
        "print(\"Classification Report (SVC with RBF kernel):\\n\", classification_report_svc_rbf)\n",
        "\n",
        "\n",
        "\n",
        "\n"
      ],
      "metadata": {
        "colab": {
          "base_uri": "https://localhost:8080/"
        },
        "id": "iU7LsIYUaN1J",
        "outputId": "7d9f4198-f3ac-4f36-b11b-657ac4c121ab"
      },
      "execution_count": null,
      "outputs": [
        {
          "output_type": "stream",
          "name": "stdout",
          "text": [
            "Accuracy (SVC with RBF kernel): 0.734733893557423\n",
            "Classification Report (SVC with RBF kernel):\n",
            "               precision    recall  f1-score   support\n",
            "\n",
            "           0       1.00      0.82      0.90        11\n",
            "           1       0.76      0.73      0.74       477\n",
            "           2       0.74      0.68      0.71       539\n",
            "           3       0.88      0.80      0.84        75\n",
            "           4       0.79      0.74      0.76       220\n",
            "           5       0.76      0.57      0.65       264\n",
            "           6       0.70      0.77      0.73       864\n",
            "           7       0.72      0.77      0.75      1120\n",
            "\n",
            "    accuracy                           0.73      3570\n",
            "   macro avg       0.80      0.73      0.76      3570\n",
            "weighted avg       0.74      0.73      0.73      3570\n",
            "\n"
          ]
        }
      ]
    },
    {
      "cell_type": "code",
      "source": [
        "from sklearn.neighbors import KNeighborsClassifier\n",
        "from sklearn.metrics import accuracy_score, classification_report\n",
        "\n",
        "# Create KNeighborsClassifier model\n",
        "knn_model = KNeighborsClassifier(n_neighbors=1)  # You can adjust the number of neighbors (n_neighbors) as needed\n",
        "\n",
        "# Training the model\n",
        "knn_model.fit(x_train, y_train)\n",
        "\n",
        "# Predicting on the test set\n",
        "y_pred_knn = knn_model.predict(x_test)\n",
        "\n",
        "# Evaluating the model\n",
        "accuracy_knn = accuracy_score(y_test, y_pred_knn)\n",
        "classification_report_knn = classification_report(y_test, y_pred_knn)\n",
        "\n",
        "print(f\"Accuracy (KNeighborsClassifier): {accuracy_knn}\")\n",
        "print(\"Classification Report (KNeighborsClassifier):\\n\", classification_report_knn)\n"
      ],
      "metadata": {
        "colab": {
          "base_uri": "https://localhost:8080/"
        },
        "id": "v4QAHR-baFhI",
        "outputId": "15ce9a7d-3bda-4908-8630-61f95bae193d"
      },
      "execution_count": null,
      "outputs": [
        {
          "output_type": "stream",
          "name": "stdout",
          "text": [
            "Accuracy (KNeighborsClassifier): 0.8162464985994398\n",
            "Classification Report (KNeighborsClassifier):\n",
            "               precision    recall  f1-score   support\n",
            "\n",
            "           0       0.83      0.91      0.87        11\n",
            "           1       0.81      0.83      0.82       477\n",
            "           2       0.82      0.81      0.81       539\n",
            "           3       0.74      0.89      0.81        75\n",
            "           4       0.85      0.85      0.85       220\n",
            "           5       0.79      0.77      0.78       264\n",
            "           6       0.80      0.83      0.82       864\n",
            "           7       0.84      0.80      0.82      1120\n",
            "\n",
            "    accuracy                           0.82      3570\n",
            "   macro avg       0.81      0.84      0.82      3570\n",
            "weighted avg       0.82      0.82      0.82      3570\n",
            "\n"
          ]
        }
      ]
    }
  ]
}