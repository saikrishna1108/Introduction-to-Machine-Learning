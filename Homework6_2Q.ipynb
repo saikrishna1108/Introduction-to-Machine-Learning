{
 "cells": [
  {
   "cell_type": "code",
   "execution_count": 1,
   "id": "0f3528f8-1dfb-4f63-8121-db3c17dd1e83",
   "metadata": {},
   "outputs": [
    {
     "data": {
      "text/plain": [
       "<torch._C.Generator at 0x20327d889f0>"
      ]
     },
     "execution_count": 1,
     "metadata": {},
     "output_type": "execute_result"
    }
   ],
   "source": [
    "import numpy as np\n",
    "import matplotlib.pyplot as plt\n",
    "from scipy import stats\n",
    "import pandas as pd\n",
    "import torch\n",
    "from torch.utils.data import DataLoader, TensorDataset\n",
    "from sklearn.model_selection import train_test_split\n",
    "from sklearn.preprocessing import StandardScaler\n",
    "from sklearn.preprocessing import MinMaxScaler\n",
    "from sklearn.metrics import accuracy_score\n",
    "import torch.optim as optim\n",
    "torch.set_printoptions(edgeitems=2, linewidth=75)\n",
    "torch.manual_seed(123)"
   ]
  },
  {
   "cell_type": "code",
   "execution_count": 4,
   "id": "2d7168b4-ab2b-4f1d-8a22-9916de16d673",
   "metadata": {},
   "outputs": [],
   "source": [
    "import torchvision\n",
    "import torchvision.transforms as transforms\n",
    "from torch.utils.data import DataLoader\n",
    "import time\n",
    "import torch.nn as nn"
   ]
  },
  {
   "cell_type": "code",
   "execution_count": 3,
   "id": "e9e5c33c-832c-4914-9406-290dea31faca",
   "metadata": {},
   "outputs": [
    {
     "name": "stdout",
     "output_type": "stream",
     "text": [
      "1\n",
      "NVIDIA GeForce GTX 1660 Ti\n"
     ]
    }
   ],
   "source": [
    "import torch\n",
    "\n",
    "# Check if GPU is available\n",
    "if torch.cuda.is_available():\n",
    "    # Print the number of available GPUs\n",
    "    print(torch.cuda.device_count())\n",
    "    # Print the name of the current GPU\n",
    "    print(torch.cuda.get_device_name(0))\n",
    "else:\n",
    "    print(\"GPU is not available.\")\n"
   ]
  },
  {
   "cell_type": "code",
   "execution_count": 5,
   "id": "99d3a495-e081-4a84-a718-24dc5ed34ed2",
   "metadata": {},
   "outputs": [
    {
     "name": "stdout",
     "output_type": "stream",
     "text": [
      "Files already downloaded and verified\n",
      "Files already downloaded and verified\n"
     ]
    }
   ],
   "source": [
    "# Set device\n",
    "device = torch.device(\"cuda\" if torch.cuda.is_available() else \"cpu\")\n",
    "\n",
    "# CIFAR-10 dataset\n",
    "transform = transforms.Compose([\n",
    "    transforms.ToTensor(),\n",
    "    transforms.Normalize((0.5, 0.5, 0.5), (0.5, 0.5, 0.5))\n",
    "])\n",
    "\n",
    "train_dataset = torchvision.datasets.CIFAR10(root='./data', train=True, download=True, transform=transform)\n",
    "test_dataset = torchvision.datasets.CIFAR10(root='./data', train=False, download=True, transform=transform)\n"
   ]
  },
  {
   "cell_type": "code",
   "execution_count": 6,
   "id": "c88f6f29-075a-41c7-a37d-03d2d0f74020",
   "metadata": {},
   "outputs": [],
   "source": [
    "\n",
    "train_loader = DataLoader(train_dataset, batch_size=32, shuffle=True, num_workers=2)\n",
    "test_loader = DataLoader(test_dataset, batch_size=32, shuffle=False, num_workers=2)"
   ]
  },
  {
   "cell_type": "code",
   "execution_count": 11,
   "id": "0e679b13-4c02-48a9-a29e-4ca1e8e5de9f",
   "metadata": {},
   "outputs": [],
   "source": [
    "input_size = 3 * 32 * 32  # CIFAR-10 images are 32x32 with 3 channels\n",
    "hidden_size = 512\n",
    "output_size = 10\n",
    "\n",
    "model = nn.Sequential(\n",
    "    nn.Linear(input_size, hidden_size),\n",
    "    nn.Tanh(),\n",
    "    nn.Linear(hidden_size, output_size)\n",
    ").to(device)"
   ]
  },
  {
   "cell_type": "code",
   "execution_count": 12,
   "id": "23544ae1-7dd5-4a9b-9344-194706bb228e",
   "metadata": {},
   "outputs": [],
   "source": [
    "criterion = nn.CrossEntropyLoss()\n",
    "optimizer = optim.Adam(model.parameters(), lr=0.001)"
   ]
  },
  {
   "cell_type": "code",
   "execution_count": 13,
   "id": "cd1db211-b01d-4c40-a9ad-e56fba30f912",
   "metadata": {},
   "outputs": [
    {
     "name": "stdout",
     "output_type": "stream",
     "text": [
      "Epoch 50/300, Loss: 0.9391800576269207\n",
      "Epoch 100/300, Loss: 0.5733898651767677\n",
      "Epoch 150/300, Loss: 0.4136489342113984\n",
      "Epoch 200/300, Loss: 0.31730965331258754\n",
      "Epoch 250/300, Loss: 0.2667284517591284\n",
      "Epoch 300/300, Loss: 0.2290915144078305\n",
      "Training Time: 3136.796103477478 seconds\n",
      "Evaluation Accuracy: 39.95%\n"
     ]
    }
   ],
   "source": [
    "start_time = time.time()\n",
    "num_epochs = 300\n",
    "\n",
    "for epoch in range(num_epochs):\n",
    "    model.train()\n",
    "    running_loss = 0.0\n",
    "\n",
    "    for inputs, labels in train_loader:\n",
    "        inputs, labels = inputs.view(-1, input_size).to(device), labels.to(device)\n",
    "\n",
    "        optimizer.zero_grad()\n",
    "        outputs = model(inputs)\n",
    "        loss = criterion(outputs, labels)\n",
    "        loss.backward()\n",
    "        optimizer.step()\n",
    "\n",
    "        running_loss += loss.item()\n",
    "\n",
    "    if (epoch + 1) % 50 == 0:\n",
    "        print(f'Epoch {epoch+1}/{num_epochs}, Loss: {running_loss/len(train_loader)}')\n",
    "\n",
    "end_time = time.time()\n",
    "training_time = end_time - start_time\n",
    "print(f\"Training Time: {training_time} seconds\")\n",
    "\n",
    "# Evaluation loop\n",
    "model.eval()\n",
    "correct = 0\n",
    "total = 0\n",
    "\n",
    "with torch.no_grad():\n",
    "    for inputs, labels in test_loader:\n",
    "        inputs, labels = inputs.view(-1, input_size).to(device), labels.to(device)\n",
    "        outputs = model(inputs)\n",
    "        _, predicted = torch.max(outputs.data, 1)\n",
    "        total += labels.size(0)\n",
    "        correct += (predicted == labels).sum().item()\n",
    "\n",
    "accuracy = correct / total\n",
    "print(f'Evaluation Accuracy: {100 * accuracy}%')"
   ]
  },
  {
   "cell_type": "code",
   "execution_count": 22,
   "id": "9a0171cb-81ab-44dd-8061-7689f5227a18",
   "metadata": {},
   "outputs": [],
   "source": [
    "sec_model = nn.Sequential(\n",
    "    nn.Linear(input_size, 512),\n",
    "    nn.Tanh(),\n",
    "    nn.Linear(512, 256),\n",
    "    nn.Tanh(),\n",
    "    nn.Linear(256, 128),\n",
    "    nn.Tanh(),\n",
    "    nn.Linear(128, 10)\n",
    ").to(device)"
   ]
  },
  {
   "cell_type": "code",
   "execution_count": 15,
   "id": "dfa119cf-e99a-4ba7-94d2-e82b8d98c6c1",
   "metadata": {},
   "outputs": [],
   "source": [
    "optimizer = optim.Adam(sec_model.parameters(), lr=0.001)"
   ]
  },
  {
   "cell_type": "code",
   "execution_count": 17,
   "id": "a562e44c-6a49-4ad9-a531-3574297dbfc0",
   "metadata": {},
   "outputs": [
    {
     "name": "stdout",
     "output_type": "stream",
     "text": [
      "Epoch 10/300, Loss: 1.2789084774061266\n",
      "Epoch 20/300, Loss: 1.2180857610336422\n",
      "Epoch 30/300, Loss: 1.1825114232717382\n",
      "Epoch 40/300, Loss: 1.15792815077404\n",
      "Epoch 50/300, Loss: 1.1318831271608136\n",
      "Epoch 60/300, Loss: 1.1179367615409335\n",
      "Epoch 70/300, Loss: 1.1234263574474528\n",
      "Epoch 80/300, Loss: 1.1042105810274623\n",
      "Epoch 90/300, Loss: 1.0903247637162967\n",
      "Epoch 100/300, Loss: 1.084411251644103\n",
      "Epoch 110/300, Loss: 1.0837889947879031\n",
      "Epoch 120/300, Loss: 1.085981331570211\n",
      "Epoch 130/300, Loss: 1.0769723613751827\n",
      "Epoch 140/300, Loss: 1.0727853791041018\n",
      "Epoch 150/300, Loss: 1.0682893628808678\n",
      "Epoch 160/300, Loss: 1.0751793665605254\n",
      "Epoch 170/300, Loss: 1.0584083692392934\n",
      "Epoch 180/300, Loss: 1.0685036422461938\n",
      "Epoch 190/300, Loss: 1.06400935884782\n",
      "Epoch 200/300, Loss: 1.0651484820526986\n",
      "Epoch 210/300, Loss: 1.0532982064147676\n",
      "Epoch 220/300, Loss: 1.0564172996287917\n",
      "Epoch 230/300, Loss: 1.0479181862304552\n",
      "Epoch 240/300, Loss: 1.0509852449709378\n",
      "Epoch 250/300, Loss: 1.0480372782555896\n",
      "Epoch 260/300, Loss: 1.0625519184675722\n",
      "Epoch 270/300, Loss: 1.0557997283154548\n",
      "Epoch 280/300, Loss: 1.0467063118766229\n",
      "Epoch 290/300, Loss: 1.0477563585902512\n",
      "Epoch 300/300, Loss: 1.051141896903019\n",
      "Training Time: 3178.2328383922577 seconds\n",
      "Evaluation Accuracy: 45.12%\n"
     ]
    }
   ],
   "source": [
    "start_time = time.time()\n",
    "num_epochs = 300\n",
    "\n",
    "for epoch in range(num_epochs):\n",
    "    sec_model.train()\n",
    "    running_loss = 0.0\n",
    "\n",
    "    for inputs, labels in train_loader:\n",
    "        inputs, labels = inputs.view(-1, input_size).to(device), labels.to(device)\n",
    "\n",
    "        optimizer.zero_grad()\n",
    "        outputs = sec_model(inputs)\n",
    "        loss = criterion(outputs, labels)\n",
    "        loss.backward()\n",
    "        optimizer.step()\n",
    "\n",
    "        running_loss += loss.item()\n",
    "\n",
    "    if (epoch + 1) % 10 == 0:\n",
    "        print(f'Epoch {epoch+1}/{num_epochs}, Loss: {running_loss/len(train_loader)}')\n",
    "\n",
    "end_time = time.time()\n",
    "training_time = end_time - start_time\n",
    "print(f\"Training Time: {training_time} seconds\")\n",
    "\n",
    "# Evaluation loop\n",
    "sec_model.eval()\n",
    "correct = 0\n",
    "total = 0\n",
    "\n",
    "with torch.no_grad():\n",
    "    for inputs, labels in test_loader:\n",
    "        inputs, labels = inputs.view(-1, input_size).to(device), labels.to(device)\n",
    "        outputs = sec_model(inputs)\n",
    "        _, predicted = torch.max(outputs.data, 1)\n",
    "        total += labels.size(0)\n",
    "        correct += (predicted == labels).sum().item()\n",
    "\n",
    "accuracy = correct / total\n",
    "print(f'Evaluation Accuracy: {100 * accuracy}%')"
   ]
  },
  {
   "cell_type": "code",
   "execution_count": 20,
   "id": "00a44456-6f68-40cc-a80a-32152ba8722c",
   "metadata": {},
   "outputs": [
    {
     "name": "stdout",
     "output_type": "stream",
     "text": [
      "Evaluation Accuracy: 45.12%\n",
      "Classification Report:\n",
      "               precision    recall  f1-score   support\n",
      "\n",
      "           0       0.54      0.53      0.54      1000\n",
      "           1       0.54      0.52      0.53      1000\n",
      "           2       0.35      0.33      0.34      1000\n",
      "           3       0.30      0.27      0.28      1000\n",
      "           4       0.38      0.35      0.36      1000\n",
      "           5       0.36      0.40      0.38      1000\n",
      "           6       0.47      0.53      0.50      1000\n",
      "           7       0.52      0.47      0.50      1000\n",
      "           8       0.56      0.61      0.59      1000\n",
      "           9       0.48      0.49      0.48      1000\n",
      "\n",
      "    accuracy                           0.45     10000\n",
      "   macro avg       0.45      0.45      0.45     10000\n",
      "weighted avg       0.45      0.45      0.45     10000\n",
      "\n"
     ]
    }
   ],
   "source": [
    "sec_model.eval()\n",
    "correct = 0\n",
    "total = 0\n",
    "all_labels = []\n",
    "all_predictions = []\n",
    "\n",
    "with torch.no_grad():\n",
    "    for inputs, labels in test_loader:\n",
    "        inputs, labels = inputs.view(-1, input_size).to(device), labels.to(device)\n",
    "        outputs = sec_model(inputs)\n",
    "        _, predicted = torch.max(outputs.data, 1)\n",
    "        \n",
    "        total += labels.size(0)\n",
    "        correct += (predicted == labels).sum().item()\n",
    "\n",
    "        all_labels.extend(labels.cpu().numpy())\n",
    "        all_predictions.extend(predicted.cpu().numpy())\n",
    "\n",
    "accuracy = correct / total\n",
    "print(f'Evaluation Accuracy: {100 * accuracy:.2f}%')\n",
    "\n",
    "# Generate and print the classification report\n",
    "print(\"Classification Report:\\n\", classification_report(all_labels, all_predictions))"
   ]
  },
  {
   "cell_type": "code",
   "execution_count": null,
   "id": "5437d265-b2cd-49f8-80fb-d4d1a704b281",
   "metadata": {},
   "outputs": [],
   "source": []
  }
 ],
 "metadata": {
  "kernelspec": {
   "display_name": "Python 3 (ipykernel)",
   "language": "python",
   "name": "python3"
  },
  "language_info": {
   "codemirror_mode": {
    "name": "ipython",
    "version": 3
   },
   "file_extension": ".py",
   "mimetype": "text/x-python",
   "name": "python",
   "nbconvert_exporter": "python",
   "pygments_lexer": "ipython3",
   "version": "3.9.8"
  }
 },
 "nbformat": 4,
 "nbformat_minor": 5
}
